{
 "cells": [
  {
   "cell_type": "markdown",
   "id": "831a9713-f12c-4bb1-8e05-bba9bb821ea0",
   "metadata": {},
   "source": [
    "#### Background"
   ]
  },
  {
   "cell_type": "markdown",
   "id": "2c8c8cec-7619-48b3-925f-a6433f60097d",
   "metadata": {},
   "source": [
    "This notebook compares the rates at which seniors have disabilities and access to a vehicle to these rates for all residents of Los Angeles."
   ]
  },
  {
   "cell_type": "code",
   "execution_count": 1,
   "id": "c95650d4-dea8-43ca-b9da-a6581e5ffffd",
   "metadata": {},
   "outputs": [],
   "source": [
    "#first we import pandas \n",
    "import pandas as pd\n",
    "import geopandas as gpd"
   ]
  },
  {
   "cell_type": "markdown",
   "id": "89597f68-4ddf-4913-9175-4abf22a72591",
   "metadata": {},
   "source": [
    "First we use the Census API to get data on disability status by age for the City of Los Angeles."
   ]
  },
  {
   "cell_type": "code",
   "execution_count": 2,
   "id": "c8be8968-813e-4bfb-9a59-7fef3121e092",
   "metadata": {},
   "outputs": [],
   "source": [
    "import requests\n",
    "apirequest = 'https://api.census.gov/data/2021/acs/acs5/subject?get=NAME,S1810_C03_001E,S1810_C01_017E,S1810_C01_018E,S1810_C02_017E,S1810_C02_018E&for=place:44000&in=state:06'\n",
    "usr_key = f\"&key=4c422219a890d0597a042d9ebad9311b022cfd4d\"\n",
    "#Put it all together in one f-string:\n",
    "query_url = f\"{apirequest}{usr_key}\"\n",
    "# Use requests package to call out to the API\n",
    "response = requests.get(query_url)"
   ]
  },
  {
   "cell_type": "markdown",
   "id": "e42d5d45-1b02-487c-b0ce-403d42303145",
   "metadata": {},
   "source": [
    "Next we will convert the API results to a dataframe with meaningful columns that can be worked with in Python."
   ]
  },
  {
   "cell_type": "code",
   "execution_count": 3,
   "id": "c6ecf5ff-88a5-4296-907c-91bc4af27050",
   "metadata": {},
   "outputs": [
    {
     "data": {
      "text/html": [
       "<div>\n",
       "<style scoped>\n",
       "    .dataframe tbody tr th:only-of-type {\n",
       "        vertical-align: middle;\n",
       "    }\n",
       "\n",
       "    .dataframe tbody tr th {\n",
       "        vertical-align: top;\n",
       "    }\n",
       "\n",
       "    .dataframe thead th {\n",
       "        text-align: right;\n",
       "    }\n",
       "</style>\n",
       "<table border=\"1\" class=\"dataframe\">\n",
       "  <thead>\n",
       "    <tr style=\"text-align: right;\">\n",
       "      <th></th>\n",
       "      <th>NAME</th>\n",
       "      <th>Pct with Disability</th>\n",
       "      <th>pop_65_74</th>\n",
       "      <th>pop_75_plus</th>\n",
       "      <th>disability_65_74</th>\n",
       "      <th>disability_75_plus</th>\n",
       "      <th>state</th>\n",
       "      <th>place</th>\n",
       "    </tr>\n",
       "  </thead>\n",
       "  <tbody>\n",
       "    <tr>\n",
       "      <th>1</th>\n",
       "      <td>Los Angeles city, California</td>\n",
       "      <td>10.3</td>\n",
       "      <td>292583</td>\n",
       "      <td>200219</td>\n",
       "      <td>74141</td>\n",
       "      <td>105996</td>\n",
       "      <td>06</td>\n",
       "      <td>44000</td>\n",
       "    </tr>\n",
       "  </tbody>\n",
       "</table>\n",
       "</div>"
      ],
      "text/plain": [
       "0                          NAME Pct with Disability pop_65_74 pop_75_plus  \\\n",
       "1  Los Angeles city, California                10.3    292583      200219   \n",
       "\n",
       "0 disability_65_74 disability_75_plus state  place  \n",
       "1            74141             105996    06  44000  "
      ]
     },
     "execution_count": 3,
     "metadata": {},
     "output_type": "execute_result"
    }
   ],
   "source": [
    "# First we have to convert this to a dataframe we can work with.\n",
    "census_df=pd.DataFrame(response.json())\n",
    "census_df.head()\n",
    "\n",
    "# Move variable names from row 0 to colmn titles.\n",
    "census_df.columns = census_df.iloc[0]\n",
    "disability_clean = census_df.iloc[1:]\n",
    "\n",
    "# Rename columns to be meaningful.\n",
    "disability_clean=disability_clean.rename(columns={'S1810_C03_001E':'Pct with Disability',\n",
    "                                                  'S1810_C01_017E':'pop_65_74','S1810_C01_018E':'pop_75_plus',\n",
    "                                                  'S1810_C02_017E':'disability_65_74','S1810_C02_018E':'disability_75_plus'})\n",
    "disability_clean.head(5)"
   ]
  },
  {
   "cell_type": "markdown",
   "id": "8060b67c-80b0-4537-beb6-f204d3de9229",
   "metadata": {},
   "source": [
    "Next we will calculate the percent of the total population and the percent of the senior population that has a disability."
   ]
  },
  {
   "cell_type": "code",
   "execution_count": 4,
   "id": "72b3c106-bdb6-4a5e-a86a-7bd5b858d3ca",
   "metadata": {},
   "outputs": [
    {
     "data": {
      "text/html": [
       "<div>\n",
       "<style scoped>\n",
       "    .dataframe tbody tr th:only-of-type {\n",
       "        vertical-align: middle;\n",
       "    }\n",
       "\n",
       "    .dataframe tbody tr th {\n",
       "        vertical-align: top;\n",
       "    }\n",
       "\n",
       "    .dataframe thead th {\n",
       "        text-align: right;\n",
       "    }\n",
       "</style>\n",
       "<table border=\"1\" class=\"dataframe\">\n",
       "  <thead>\n",
       "    <tr style=\"text-align: right;\">\n",
       "      <th></th>\n",
       "      <th>NAME</th>\n",
       "      <th>Pct with Disability</th>\n",
       "      <th>Pct Seniors with Disability</th>\n",
       "    </tr>\n",
       "  </thead>\n",
       "  <tbody>\n",
       "    <tr>\n",
       "      <th>1</th>\n",
       "      <td>Los Angeles city, California</td>\n",
       "      <td>10.0</td>\n",
       "      <td>37.0</td>\n",
       "    </tr>\n",
       "  </tbody>\n",
       "</table>\n",
       "</div>"
      ],
      "text/plain": [
       "0                          NAME  Pct with Disability  \\\n",
       "1  Los Angeles city, California                 10.0   \n",
       "\n",
       "0  Pct Seniors with Disability  \n",
       "1                         37.0  "
      ]
     },
     "execution_count": 4,
     "metadata": {},
     "output_type": "execute_result"
    }
   ],
   "source": [
    "disability_clean=disability_clean.astype({'Pct with Disability':'float', 'pop_65_74':'int', 'pop_75_plus':'int', 'disability_65_74': 'int', 'disability_75_plus':'int'})\n",
    "disability_clean['seniors_all']=disability_clean['pop_65_74']+disability_clean['pop_75_plus']\n",
    "disability_clean['seniors_disability']=disability_clean['disability_65_74']+disability_clean['disability_75_plus']\n",
    "disability_clean['Pct Seniors with Disability']=round(100*disability_clean['seniors_disability']/disability_clean['seniors_all'])\n",
    "disability_clean=disability_clean[['NAME','Pct with Disability','Pct Seniors with Disability']]\n",
    "disability_clean['Pct with Disability']=round(disability_clean['Pct with Disability'])\n",
    "disability_clean"
   ]
  },
  {
   "cell_type": "code",
   "execution_count": 14,
   "id": "055dd738-8b7b-4732-b8e7-9b39b922466e",
   "metadata": {},
   "outputs": [
    {
     "data": {
      "image/png": "[encoded data removed]",
      "text/plain": [
       "<Figure size 600x500 with 1 Axes>"
      ]
     },
     "metadata": {},
     "output_type": "display_data"
    }
   ],
   "source": [
    "import matplotlib.pyplot as plt\n",
    "fig, ax = plt.subplots(figsize=(6,5))\n",
    "\n",
    "#Create bar plot and label the two bars with their values.\n",
    "ax = disability_clean.plot(ax=ax, kind='bar', color=['#80cdc1','#01665e'] , legend=False)\n",
    "ax.bar_label(ax.containers[0], label_type='edge')\n",
    "ax.bar_label(ax.containers[1], label_type='edge')\n",
    "\n",
    "# Adjust x-axis so it doesn't have a subtitle or ticks.\n",
    "plt.xlabel(None)\n",
    "labels=['All Residents','Seniors']\n",
    "plt.xticks(ticks=[-0.125,0.125],labels=labels,rotation=0)\n",
    "#plt.xticks(ticks=[-0.125,0.125], labels=list(cols[1:3]),rotation=10)\n",
    "\n",
    "# Ajust y-axis so that it has desired subtitle and ticks.\n",
    "plt.ylabel(\"Percent of Residents with Disability\")\n",
    "ax.set_yticks((0,10,20,30,40))\n",
    "\n",
    "#Adjust title.\n",
    "plt.title(\"Residents with Disabilities in Los Angeles\")\n",
    "plt.show()"
   ]
  },
  {
   "cell_type": "markdown",
   "id": "7cfe592e-bb94-4044-8bf8-56b79719ed33",
   "metadata": {},
   "source": [
    "First we use the Census API to get data on vehicle ownership by tenure by age for the City of Los Angeles."
   ]
  },
  {
   "cell_type": "code",
   "execution_count": 5,
   "id": "6e3e4614-f10b-4e1f-b933-3410817e18eb",
   "metadata": {},
   "outputs": [],
   "source": [
    "import requests\n",
    "apirequest = 'https://api.census.gov/data/2021/acs/acs5?get=NAME,B25045_003E,B25045_006E,B25045_007E,B25045_010E,B25045_012E,B25045_015E,B25045_016E,B25045_019E&for=place:44000&in=state:06'\n",
    "usr_key = f\"&key=4c422219a890d0597a042d9ebad9311b022cfd4d\"\n",
    "#Put it all together in one f-string:\n",
    "query_url = f\"{apirequest}{usr_key}\"\n",
    "# Use requests package to call out to the API\n",
    "response = requests.get(query_url)"
   ]
  },
  {
   "cell_type": "markdown",
   "id": "7ea602bb-c239-4ddf-9292-de85fcfb7032",
   "metadata": {},
   "source": [
    "Now we will rename our columns."
   ]
  },
  {
   "cell_type": "code",
   "execution_count": 6,
   "id": "989e71ee-6b18-4b26-bcf9-53244cfc90b0",
   "metadata": {},
   "outputs": [
    {
     "data": {
      "text/html": [
       "<div>\n",
       "<style scoped>\n",
       "    .dataframe tbody tr th:only-of-type {\n",
       "        vertical-align: middle;\n",
       "    }\n",
       "\n",
       "    .dataframe tbody tr th {\n",
       "        vertical-align: top;\n",
       "    }\n",
       "\n",
       "    .dataframe thead th {\n",
       "        text-align: right;\n",
       "    }\n",
       "</style>\n",
       "<table border=\"1\" class=\"dataframe\">\n",
       "  <thead>\n",
       "    <tr style=\"text-align: right;\">\n",
       "      <th></th>\n",
       "      <th>NAME</th>\n",
       "      <th>Owner no vehicle</th>\n",
       "      <th>Owner no vehicle 65+</th>\n",
       "      <th>Owner with vehicle</th>\n",
       "      <th>Owner with vehicle 65+</th>\n",
       "      <th>Renter no vehicle</th>\n",
       "      <th>Renter no vehicle 65+</th>\n",
       "      <th>Renter with vehicle</th>\n",
       "      <th>Renter with vehicle 65+</th>\n",
       "      <th>state</th>\n",
       "      <th>place</th>\n",
       "    </tr>\n",
       "  </thead>\n",
       "  <tbody>\n",
       "    <tr>\n",
       "      <th>1</th>\n",
       "      <td>Los Angeles city, California</td>\n",
       "      <td>17341</td>\n",
       "      <td>10951</td>\n",
       "      <td>493319</td>\n",
       "      <td>151011</td>\n",
       "      <td>144350</td>\n",
       "      <td>47232</td>\n",
       "      <td>729841</td>\n",
       "      <td>77809</td>\n",
       "      <td>06</td>\n",
       "      <td>44000</td>\n",
       "    </tr>\n",
       "  </tbody>\n",
       "</table>\n",
       "</div>"
      ],
      "text/plain": [
       "0                          NAME Owner no vehicle Owner no vehicle 65+  \\\n",
       "1  Los Angeles city, California            17341                10951   \n",
       "\n",
       "0 Owner with vehicle Owner with vehicle 65+ Renter no vehicle  \\\n",
       "1             493319                 151011            144350   \n",
       "\n",
       "0 Renter no vehicle 65+ Renter with vehicle Renter with vehicle 65+ state  \\\n",
       "1                 47232              729841                   77809    06   \n",
       "\n",
       "0  place  \n",
       "1  44000  "
      ]
     },
     "execution_count": 6,
     "metadata": {},
     "output_type": "execute_result"
    }
   ],
   "source": [
    "# First we have to convert this to a dataframe we can work with.\n",
    "census_df=pd.DataFrame(response.json())\n",
    "census_df.head()\n",
    "\n",
    "# Move variable names from row 0 to colmn titles.\n",
    "census_df.columns = census_df.iloc[0]\n",
    "vehicle_clean = census_df.iloc[1:]\n",
    "\n",
    "# Rename columns to be meaningful.\n",
    "vehicle_clean=vehicle_clean.rename(columns={'B25045_003E':'Owner no vehicle', 'B25045_006E':'Owner no vehicle 65+',\n",
    "                         'B25045_007E':'Owner with vehicle', 'B25045_010E' : 'Owner with vehicle 65+',\n",
    "                         'B25045_012E' : 'Renter no vehicle', 'B25045_015E' : 'Renter no vehicle 65+',\n",
    "                         'B25045_016E' : 'Renter with vehicle', 'B25045_019E' : 'Renter with vehicle 65+'},)\n",
    "vehicle_clean.head(5)"
   ]
  },
  {
   "cell_type": "markdown",
   "id": "a25772fb-8160-4beb-a94e-5e83f79770a5",
   "metadata": {},
   "source": [
    "Now we create a new dataframe with calculated percentages."
   ]
  },
  {
   "cell_type": "code",
   "execution_count": 7,
   "id": "6e21b2b3-4369-4aa0-bce1-f70e1a5ffe7a",
   "metadata": {},
   "outputs": [],
   "source": [
    "# Cast as integers to be able to do calculations.\n",
    "vehicle_clean=vehicle_clean.astype({'Owner no vehicle':'int', 'Owner no vehicle 65+':'int', 'Owner with vehicle':'int', 'Owner with vehicle 65+': 'int', \n",
    "                                  'Renter no vehicle':'int', 'Renter no vehicle 65+' : 'int', 'Renter with vehicle' : 'int' , 'Renter with vehicle 65+' : 'int'})\n",
    "\n",
    "# Calculate necesarry subtotals.\n",
    "vehicle_clean['Total HH']=vehicle_clean['Owner no vehicle']+vehicle_clean['Owner with vehicle']+vehicle_clean['Renter no vehicle']+vehicle_clean['Renter with vehicle']\n",
    "vehicle_clean['Senior HH']=vehicle_clean['Owner no vehicle 65+']+vehicle_clean['Owner with vehicle 65+']+vehicle_clean['Renter no vehicle 65+']+vehicle_clean['Renter with vehicle 65+']\n",
    "vehicle_clean['Total No Vehicle']=vehicle_clean['Owner no vehicle']+vehicle_clean['Renter no vehicle']\n",
    "vehicle_clean['Senior No Vehicle']=vehicle_clean['Owner no vehicle 65+']+vehicle_clean['Renter no vehicle 65+']\n",
    "\n",
    "# Calculate rounded, plot-friendly percentages.\n",
    "vehicle_clean['Pct Households Without a Vehicle'] = round(vehicle_clean['Total No Vehicle']/vehicle_clean['Total HH']*100)\n",
    "vehicle_clean['Pct Senior-Headed Households Without a Vehicle']= round(vehicle_clean['Senior No Vehicle']/vehicle_clean['Senior HH']*100)\n",
    "vehicle_clean=vehicle_clean[['NAME','Pct Households Without a Vehicle', 'Pct Senior-Headed Households Without a Vehicle']]"
   ]
  },
  {
   "cell_type": "markdown",
   "id": "f91f3cdc-2ea9-41e1-a76f-d2dc1bfa2d50",
   "metadata": {},
   "source": [
    "Now I can make my plot!"
   ]
  },
  {
   "cell_type": "code",
   "execution_count": 9,
   "id": "39b4284c-fa7f-4ac5-8f3d-51c5b9ab2322",
   "metadata": {},
   "outputs": [
    {
     "data": {
      "image/png": "[encoded data removed]",
      "text/plain": [
       "<Figure size 600x500 with 1 Axes>"
      ]
     },
     "metadata": {},
     "output_type": "display_data"
    }
   ],
   "source": [
    "import matplotlib.pyplot as plt\n",
    "\n",
    "fig, ax = plt.subplots(figsize=(6,5))\n",
    "\n",
    "#Create bar plot and label the two bars with their values.\n",
    "ax = vehicle_clean.plot(ax=ax, kind='bar', color=['#80cdc1','#01665e'] , legend=False)\n",
    "ax.bar_label(ax.containers[0], label_type='edge')\n",
    "ax.bar_label(ax.containers[1], label_type='edge')\n",
    "\n",
    "# Adjust x-axis so it doesn't have a subtitle or ticks.\n",
    "plt.xlabel(None)\n",
    "labels=['All Households','Senior-Headed'+'\\n'+'Households']\n",
    "plt.xticks(ticks=[-0.125,0.125],labels=labels,rotation=0)\n",
    "#plt.xticks(ticks=[-0.125,0.125], labels=list(cols[1:3]),rotation=10)\n",
    "\n",
    "# Ajust y-axis so that it has desired subtitle and ticks.\n",
    "plt.ylabel(\"Percent of Households Without Vehicle\")\n",
    "ax.set_yticks((0,5,10,15,20,25))\n",
    "\n",
    "#Adjust title.\n",
    "plt.title(\"Households Without Vehicle Access in Los Angeles\")\n",
    "plt.show()"
   ]
  }
 ],
 "metadata": {
  "kernelspec": {
   "display_name": "Python 3 (ipykernel)",
   "language": "python",
   "name": "python3"
  },
  "language_info": {
   "codemirror_mode": {
    "name": "ipython",
    "version": 3
   },
   "file_extension": ".py",
   "mimetype": "text/x-python",
   "name": "python",
   "nbconvert_exporter": "python",
   "pygments_lexer": "ipython3",
   "version": "3.10.8"
  }
 },
 "nbformat": 4,
 "nbformat_minor": 5
}
